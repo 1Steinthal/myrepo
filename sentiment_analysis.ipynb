{
  "nbformat": 4,
  "nbformat_minor": 0,
  "metadata": {
    "colab": {
      "provenance": [],
      "collapsed_sections": [],
      "include_colab_link": true
    },
    "kernelspec": {
      "name": "python3",
      "display_name": "Python 3"
    },
    "language_info": {
      "name": "python"
    }
  },
  "cells": [
    {
      "cell_type": "markdown",
      "metadata": {
        "id": "view-in-github",
        "colab_type": "text"
      },
      "source": [
        "<a href=\"https://colab.research.google.com/github/1Steinthal/myrepo/blob/main/sentiment_analysis.ipynb\" target=\"_parent\"><img src=\"https://colab.research.google.com/assets/colab-badge.svg\" alt=\"Open In Colab\"/></a>"
      ]
    },
    {
      "cell_type": "markdown",
      "metadata": {
        "id": "opzl3zsjKDFl"
      },
      "source": [
        "# <img src=\"https://cdn.iconscout.com/icon/free/png-256/twitter-87-432551.png\" alt=\"drawing\" width=\"32\"/> Twitter sentiment analysis\n",
        "This is a Python \"R Markdown\" (`JuPyter notebook`). You run each code block with `ctrl/cmd + enter` or by clicking the \"play\" arrow when you have selected the block. If you type `ctrl/cmd + shift + enter`, the focus will go to the next block. In Jupyter notebooks, text is also represented as a block. You can see menu options in the top to add \"code\" or \"text\".\n",
        "\n",
        "Let us start by using the `!` to indicate that we are doing something in the **terminal** from within this file (since we cannot access the terminal). This terminal action uses `pip` which is a package for managing packages (woah). Here, we make sure that [`vaderSentiment`](https://github.com/cjhutto/vaderSentiment#:~:text=Notifications-,VADER%20Sentiment%20Analysis.,on%20texts%20from%20other%20domains.), [`sentida`](https://github.com/Guscode/Sentida) and [`tweepy`](https://www.tweepy.org/) are installed:"
      ]
    },
    {
      "cell_type": "code",
      "metadata": {
        "colab": {
          "base_uri": "https://localhost:8080/"
        },
        "id": "ylwuaA91HZOK",
        "outputId": "7a513522-be02-4fef-c0d3-f3a7760f483d"
      },
      "source": [
        "!pip install sentida\n",
        "!pip install tweepy\n",
        "!pip install vaderSentiment\n",
        "!pip install pandas"
      ],
      "execution_count": null,
      "outputs": [
        {
          "output_type": "stream",
          "name": "stdout",
          "text": [
            "Collecting sentida\n",
            "  Downloading sentida-0.6.0.tar.gz (64 kB)\n",
            "\u001b[?25l\r\u001b[K     |█████                           | 10 kB 27.7 MB/s eta 0:00:01\r\u001b[K     |██████████                      | 20 kB 35.3 MB/s eta 0:00:01\r\u001b[K     |███████████████▏                | 30 kB 29.7 MB/s eta 0:00:01\r\u001b[K     |████████████████████▏           | 40 kB 21.7 MB/s eta 0:00:01\r\u001b[K     |█████████████████████████▏      | 51 kB 15.3 MB/s eta 0:00:01\r\u001b[K     |██████████████████████████████▎ | 61 kB 17.4 MB/s eta 0:00:01\r\u001b[K     |████████████████████████████████| 64 kB 2.8 MB/s \n",
            "\u001b[?25hRequirement already satisfied: nltk in /usr/local/lib/python3.7/dist-packages (from sentida) (3.2.5)\n",
            "Requirement already satisfied: numpy in /usr/local/lib/python3.7/dist-packages (from sentida) (1.19.5)\n",
            "Requirement already satisfied: pandas in /usr/local/lib/python3.7/dist-packages (from sentida) (1.1.5)\n",
            "Requirement already satisfied: six in /usr/local/lib/python3.7/dist-packages (from nltk->sentida) (1.15.0)\n",
            "Requirement already satisfied: pytz>=2017.2 in /usr/local/lib/python3.7/dist-packages (from pandas->sentida) (2018.9)\n",
            "Requirement already satisfied: python-dateutil>=2.7.3 in /usr/local/lib/python3.7/dist-packages (from pandas->sentida) (2.8.2)\n",
            "Building wheels for collected packages: sentida\n",
            "  Building wheel for sentida (setup.py) ... \u001b[?25l\u001b[?25hdone\n",
            "  Created wheel for sentida: filename=sentida-0.6.0-py3-none-any.whl size=61681 sha256=0243f836c3b2b2d6808f739dd4a3f740a23c5a18e08bff1cf940386db7e9a94e\n",
            "  Stored in directory: /root/.cache/pip/wheels/5b/f8/65/979fac25993c9028d89d60364b0ade0456fdb81bc48a60272e\n",
            "Successfully built sentida\n",
            "Installing collected packages: sentida\n",
            "Successfully installed sentida-0.6.0\n",
            "Requirement already satisfied: tweepy in /usr/local/lib/python3.7/dist-packages (3.10.0)\n",
            "Requirement already satisfied: requests[socks]>=2.11.1 in /usr/local/lib/python3.7/dist-packages (from tweepy) (2.23.0)\n",
            "Requirement already satisfied: requests-oauthlib>=0.7.0 in /usr/local/lib/python3.7/dist-packages (from tweepy) (1.3.0)\n",
            "Requirement already satisfied: six>=1.10.0 in /usr/local/lib/python3.7/dist-packages (from tweepy) (1.15.0)\n",
            "Requirement already satisfied: oauthlib>=3.0.0 in /usr/local/lib/python3.7/dist-packages (from requests-oauthlib>=0.7.0->tweepy) (3.1.1)\n",
            "Requirement already satisfied: urllib3!=1.25.0,!=1.25.1,<1.26,>=1.21.1 in /usr/local/lib/python3.7/dist-packages (from requests[socks]>=2.11.1->tweepy) (1.24.3)\n",
            "Requirement already satisfied: idna<3,>=2.5 in /usr/local/lib/python3.7/dist-packages (from requests[socks]>=2.11.1->tweepy) (2.10)\n",
            "Requirement already satisfied: certifi>=2017.4.17 in /usr/local/lib/python3.7/dist-packages (from requests[socks]>=2.11.1->tweepy) (2021.5.30)\n",
            "Requirement already satisfied: chardet<4,>=3.0.2 in /usr/local/lib/python3.7/dist-packages (from requests[socks]>=2.11.1->tweepy) (3.0.4)\n",
            "Requirement already satisfied: PySocks!=1.5.7,>=1.5.6 in /usr/local/lib/python3.7/dist-packages (from requests[socks]>=2.11.1->tweepy) (1.7.1)\n",
            "Collecting vaderSentiment\n",
            "  Downloading vaderSentiment-3.3.2-py2.py3-none-any.whl (125 kB)\n",
            "\u001b[K     |████████████████████████████████| 125 kB 16.2 MB/s \n",
            "\u001b[?25hRequirement already satisfied: requests in /usr/local/lib/python3.7/dist-packages (from vaderSentiment) (2.23.0)\n",
            "Requirement already satisfied: idna<3,>=2.5 in /usr/local/lib/python3.7/dist-packages (from requests->vaderSentiment) (2.10)\n",
            "Requirement already satisfied: chardet<4,>=3.0.2 in /usr/local/lib/python3.7/dist-packages (from requests->vaderSentiment) (3.0.4)\n",
            "Requirement already satisfied: certifi>=2017.4.17 in /usr/local/lib/python3.7/dist-packages (from requests->vaderSentiment) (2021.5.30)\n",
            "Requirement already satisfied: urllib3!=1.25.0,!=1.25.1,<1.26,>=1.21.1 in /usr/local/lib/python3.7/dist-packages (from requests->vaderSentiment) (1.24.3)\n",
            "Installing collected packages: vaderSentiment\n",
            "Successfully installed vaderSentiment-3.3.2\n",
            "Requirement already satisfied: pandas in /usr/local/lib/python3.7/dist-packages (1.1.5)\n",
            "Requirement already satisfied: pytz>=2017.2 in /usr/local/lib/python3.7/dist-packages (from pandas) (2018.9)\n",
            "Requirement already satisfied: python-dateutil>=2.7.3 in /usr/local/lib/python3.7/dist-packages (from pandas) (2.8.2)\n",
            "Requirement already satisfied: numpy>=1.15.4 in /usr/local/lib/python3.7/dist-packages (from pandas) (1.19.5)\n",
            "Requirement already satisfied: six>=1.5 in /usr/local/lib/python3.7/dist-packages (from python-dateutil>=2.7.3->pandas) (1.15.0)\n"
          ]
        }
      ]
    },
    {
      "cell_type": "markdown",
      "metadata": {
        "id": "HmaKw_iBK85R"
      },
      "source": [
        "Then we import our libraries just like in `R`. Instead of using `library`, we just use the `import` verb instead. When we write `as tw` or `as pd`, we can refer to the package by the shorter name instead of writing the long name each time (nice)."
      ]
    },
    {
      "cell_type": "code",
      "metadata": {
        "id": "o2szuMd1HbE7"
      },
      "source": [
        "from sentida import Sentida as s\n",
        "from vaderSentiment.vaderSentiment import SentimentIntensityAnalyzer as v\n",
        "import tweepy as tw\n",
        "import pandas as pd"
      ],
      "execution_count": null,
      "outputs": []
    },
    {
      "cell_type": "markdown",
      "metadata": {
        "id": "5lGf-KLFLSOm"
      },
      "source": [
        "Then we set up our Twitter access. These API keys are **SUPER** secret, but here you go 😘 From me to you, my hyper-secret access keys.\n",
        "\n",
        "## What do I get access to???\n",
        "With these keys, Tweepy can access an **app** created by a **user** with a **developer account**. In this case, the app is called `SentChecker`, it is created by me [`esbenkc`](https://twitter.com/esbenkc) and is part of the standard access that gives us the ability to download up to **500,000** tweets per month.\n",
        "\n",
        "## 😥 What are we to do with that little data, Esben?\n",
        "Well, I encourage you to set up your own developer accounts so you can create your own apps as well for more Twitter action! This will be a small test so you can see how easy it is to set up and then we will import a **big dataset** for our analyses..."
      ]
    },
    {
      "cell_type": "code",
      "metadata": {
        "id": "F8Fcg--7LT9d"
      },
      "source": [
        "# Your Twitter API key and API secret\n",
        "my_api_key = \"FJL5ZphG37uM1StxgiofFkR7p\"\n",
        "my_api_secret = \"Un4gXd6q1FOJaGyLfThgk3GpIP1HbcROEd6TBGVim8AdsumrE3\"\n",
        "\n",
        "# Authenticate\n",
        "auth = tw.OAuthHandler(my_api_key, my_api_secret)\n",
        "api = tw.API(auth, wait_on_rate_limit=True)"
      ],
      "execution_count": null,
      "outputs": []
    },
    {
      "cell_type": "markdown",
      "metadata": {
        "id": "4ClpZJZQMwkt"
      },
      "source": [
        "Now we define a search term just like you would if you searched something on Twitter. In this case, we search for `covid19` hashtags and remove all retweets `-filter:retweets` since they will be duplicates in our data. We then search and pull down some tweets!"
      ]
    },
    {
      "cell_type": "code",
      "metadata": {
        "colab": {
          "base_uri": "https://localhost:8080/"
        },
        "id": "YPlYRMKhIJx7",
        "outputId": "624aba55-9480-47cc-ca3d-a3fbbf9d3866"
      },
      "source": [
        "search_query = \"#covid19 -filter:retweets\"\n",
        "\n",
        "# Get 10 tweets from the API (remember, the app can only take 500,000 tweets, \n",
        "# so don't change the number too high or your fellow students won't have access 💘)\n",
        "tweets = tw.Cursor(api.search,\n",
        "              q=search_query,\n",
        "              lang=\"en\",\n",
        "              since=\"2021-09-16\").items(10)\n",
        "\n",
        "# Store the API responses in a list using a for loop\n",
        "tweets_copy = []\n",
        "for tweet in tweets:\n",
        "    tweets_copy.append(tweet)\n",
        "\n",
        "print(\"Total Tweets fetched:\", len(tweets_copy))\n",
        "tweets"
      ],
      "execution_count": null,
      "outputs": [
        {
          "output_type": "stream",
          "name": "stdout",
          "text": [
            "Total Tweets fetched: 10\n"
          ]
        },
        {
          "output_type": "execute_result",
          "data": {
            "text/plain": [
              "<tweepy.cursor.ItemIterator at 0x7f8fc43e7550>"
            ]
          },
          "metadata": {},
          "execution_count": 17
        }
      ]
    },
    {
      "cell_type": "markdown",
      "metadata": {
        "id": "dEfM8D17NVSb"
      },
      "source": [
        "But the tweets come in a so-called `dictionary` format (or `json`, `object`, etc...) that we have to convert into our beloved `dataframe` format. `Pandas` (here = `pd`) is like the `tidyverse` of Python but a bit more messy.\n",
        "\n",
        "A dictionary/json looks like this: \n",
        "\n",
        "![JSON example](https://static.goanywhere.com/images/tutorials/read-json/ExampleJSON2.png)\n",
        "\n",
        "You can see how we have `[]` to represent a list (in this case, it has just one item) and we have `{}` to represent different named variables, e.g. `orderno`, `date`, etc. Their values are then given by a `:`. Nearly all data on the internet looks like this but it's hard to do data analysis on, so we convert it like so and get a dataframe:"
      ]
    },
    {
      "cell_type": "code",
      "metadata": {
        "colab": {
          "base_uri": "https://localhost:8080/",
          "height": 510
        },
        "id": "DMaIG9xlJown",
        "outputId": "e4033b6c-58df-41c7-963e-9e52d8d6d1ee"
      },
      "source": [
        "# Create an empty dataframe\n",
        "tweets_df = pd.DataFrame()\n",
        "\n",
        "# populate the dataframe\n",
        "for tweet in tweets_copy:\n",
        "    hashtags = []\n",
        "    try:\n",
        "        for hashtag in tweet.entities[\"hashtags\"]:\n",
        "            hashtags.append(hashtag[\"text\"])\n",
        "        text = api.get_status(id=tweet.id, tweet_mode='extended').full_text\n",
        "    except:\n",
        "        pass\n",
        "    tweets_df = tweets_df.append(pd.DataFrame({'user_name': tweet.user.name, \n",
        "                                               'user_location': tweet.user.location,\\\n",
        "                                               'user_description': tweet.user.description,\n",
        "                                               'user_verified': tweet.user.verified,\n",
        "                                               'date': tweet.created_at,\n",
        "                                               'text': text, \n",
        "                                               'hashtags': [hashtags if hashtags else None],\n",
        "                                               'source': tweet.source}))\n",
        "    tweets_df = tweets_df.reset_index(drop=True)\n",
        "\n",
        "# show the dataframe\n",
        "tweets_df.head()"
      ],
      "execution_count": null,
      "outputs": [
        {
          "output_type": "execute_result",
          "data": {
            "text/html": [
              "<div>\n",
              "<style scoped>\n",
              "    .dataframe tbody tr th:only-of-type {\n",
              "        vertical-align: middle;\n",
              "    }\n",
              "\n",
              "    .dataframe tbody tr th {\n",
              "        vertical-align: top;\n",
              "    }\n",
              "\n",
              "    .dataframe thead th {\n",
              "        text-align: right;\n",
              "    }\n",
              "</style>\n",
              "<table border=\"1\" class=\"dataframe\">\n",
              "  <thead>\n",
              "    <tr style=\"text-align: right;\">\n",
              "      <th></th>\n",
              "      <th>user_name</th>\n",
              "      <th>user_location</th>\n",
              "      <th>user_description</th>\n",
              "      <th>user_verified</th>\n",
              "      <th>date</th>\n",
              "      <th>text</th>\n",
              "      <th>hashtags</th>\n",
              "      <th>source</th>\n",
              "    </tr>\n",
              "  </thead>\n",
              "  <tbody>\n",
              "    <tr>\n",
              "      <th>0</th>\n",
              "      <td>Bella Cherie</td>\n",
              "      <td>United States</td>\n",
              "      <td>Jesus Christ is God. The Word of God says you ...</td>\n",
              "      <td>False</td>\n",
              "      <td>2021-11-09 12:18:20</td>\n",
              "      <td>@Reuters #WARNING A TSUNAMI WILL HIT THE EAST ...</td>\n",
              "      <td>[WARNING]</td>\n",
              "      <td>Twitter Web App</td>\n",
              "    </tr>\n",
              "    <tr>\n",
              "      <th>1</th>\n",
              "      <td>Keith Pompey</td>\n",
              "      <td>OnTheGoFlow</td>\n",
              "      <td>.@Sixers beat writer for @PhillyInquirer/ @pro...</td>\n",
              "      <td>True</td>\n",
              "      <td>2021-11-09 12:18:18</td>\n",
              "      <td>How will Joel Embiid’s absence due to testing ...</td>\n",
              "      <td>None</td>\n",
              "      <td>Twitter Web App</td>\n",
              "    </tr>\n",
              "    <tr>\n",
              "      <th>2</th>\n",
              "      <td>Care Home Pro</td>\n",
              "      <td>United Kingdom</td>\n",
              "      <td>News, insight and intelligence for #carehome o...</td>\n",
              "      <td>False</td>\n",
              "      <td>2021-11-09 12:18:10</td>\n",
              "      <td>BREAKING NEWS: Care home #COVID19 deaths rise ...</td>\n",
              "      <td>[COVID19]</td>\n",
              "      <td>Twitter Web App</td>\n",
              "    </tr>\n",
              "    <tr>\n",
              "      <th>3</th>\n",
              "      <td>Bella Cherie</td>\n",
              "      <td>United States</td>\n",
              "      <td>Jesus Christ is God. The Word of God says you ...</td>\n",
              "      <td>False</td>\n",
              "      <td>2021-11-09 12:18:09</td>\n",
              "      <td>@thehill #WARNING A TSUNAMI WILL HIT THE EAST ...</td>\n",
              "      <td>[WARNING]</td>\n",
              "      <td>Twitter Web App</td>\n",
              "    </tr>\n",
              "    <tr>\n",
              "      <th>4</th>\n",
              "      <td>🌴🍍𝙇𝖚𝙘𝖆𝙨🍍🌴™</td>\n",
              "      <td>in heaven #RIP</td>\n",
              "      <td>Colts Fan #WeBelieve ➤ Public Figure ➤ Big Dab...</td>\n",
              "      <td>False</td>\n",
              "      <td>2021-11-09 12:18:09</td>\n",
              "      <td>#WARNING A TSUNAMI WILL HIT THE EAST COAST!! L...</td>\n",
              "      <td>[WARNING]</td>\n",
              "      <td>Twitter for Android</td>\n",
              "    </tr>\n",
              "  </tbody>\n",
              "</table>\n",
              "</div>"
            ],
            "text/plain": [
              "       user_name   user_location  ...   hashtags               source\n",
              "0   Bella Cherie   United States  ...  [WARNING]      Twitter Web App\n",
              "1   Keith Pompey     OnTheGoFlow  ...       None      Twitter Web App\n",
              "2  Care Home Pro  United Kingdom  ...  [COVID19]      Twitter Web App\n",
              "3   Bella Cherie   United States  ...  [WARNING]      Twitter Web App\n",
              "4     🌴🍍𝙇𝖚𝙘𝖆𝙨🍍🌴™  in heaven #RIP  ...  [WARNING]  Twitter for Android\n",
              "\n",
              "[5 rows x 8 columns]"
            ]
          },
          "metadata": {},
          "execution_count": 18
        }
      ]
    },
    {
      "cell_type": "markdown",
      "metadata": {
        "id": "KbnYg0nLOP8G"
      },
      "source": [
        "# Amazing! You're now a Twitter Wiz 🧙🏼‍♂️\n",
        "## Let's start some sentiment analysis!\n",
        "\n",
        "Now let's load in some real big data from another user who has already done the above query for 179,107 tweets! With `pd.read_csv()` (remember `pd = pandas`), we can load a dataset directly from a link to the file (you can click on the link with `ctrl/command + click` to check out the raw data. This is a CSV so we don't have to do anything weird to make it into a dataframe."
      ]
    },
    {
      "cell_type": "code",
      "metadata": {
        "colab": {
          "base_uri": "https://localhost:8080/",
          "height": 462
        },
        "id": "YenQqzdpH2gj",
        "outputId": "3df1ed7d-7e0a-4f58-dad0-3057dbf253aa"
      },
      "source": [
        "loaded_df = pd.read_csv(\"https://raw.githubusercontent.com/gabrielpreda/covid-19-tweets/master/covid19_tweets.csv\")\n",
        "print(\"Loaded\", len(loaded_df)-1, \"tweets.\")\n",
        "loaded_df.head(5)"
      ],
      "execution_count": null,
      "outputs": [
        {
          "output_type": "stream",
          "name": "stdout",
          "text": [
            "Loaded 179107 tweets.\n"
          ]
        },
        {
          "output_type": "execute_result",
          "data": {
            "text/html": [
              "<div>\n",
              "<style scoped>\n",
              "    .dataframe tbody tr th:only-of-type {\n",
              "        vertical-align: middle;\n",
              "    }\n",
              "\n",
              "    .dataframe tbody tr th {\n",
              "        vertical-align: top;\n",
              "    }\n",
              "\n",
              "    .dataframe thead th {\n",
              "        text-align: right;\n",
              "    }\n",
              "</style>\n",
              "<table border=\"1\" class=\"dataframe\">\n",
              "  <thead>\n",
              "    <tr style=\"text-align: right;\">\n",
              "      <th></th>\n",
              "      <th>user_name</th>\n",
              "      <th>user_location</th>\n",
              "      <th>user_description</th>\n",
              "      <th>user_created</th>\n",
              "      <th>user_followers</th>\n",
              "      <th>user_friends</th>\n",
              "      <th>user_favourites</th>\n",
              "      <th>user_verified</th>\n",
              "      <th>date</th>\n",
              "      <th>text</th>\n",
              "      <th>hashtags</th>\n",
              "      <th>source</th>\n",
              "      <th>is_retweet</th>\n",
              "    </tr>\n",
              "  </thead>\n",
              "  <tbody>\n",
              "    <tr>\n",
              "      <th>0</th>\n",
              "      <td>ᏉᎥ☻լꂅϮ</td>\n",
              "      <td>astroworld</td>\n",
              "      <td>wednesday addams as a disney princess keepin i...</td>\n",
              "      <td>2017-05-26 05:46:42</td>\n",
              "      <td>624</td>\n",
              "      <td>950</td>\n",
              "      <td>18775</td>\n",
              "      <td>False</td>\n",
              "      <td>2020-07-25 12:27:21</td>\n",
              "      <td>If I smelled the scent of hand sanitizers toda...</td>\n",
              "      <td>NaN</td>\n",
              "      <td>Twitter for iPhone</td>\n",
              "      <td>False</td>\n",
              "    </tr>\n",
              "    <tr>\n",
              "      <th>1</th>\n",
              "      <td>Tom Basile 🇺🇸</td>\n",
              "      <td>New York, NY</td>\n",
              "      <td>Husband, Father, Columnist &amp; Commentator. Auth...</td>\n",
              "      <td>2009-04-16 20:06:23</td>\n",
              "      <td>2253</td>\n",
              "      <td>1677</td>\n",
              "      <td>24</td>\n",
              "      <td>True</td>\n",
              "      <td>2020-07-25 12:27:17</td>\n",
              "      <td>Hey @Yankees @YankeesPR and @MLB - wouldn't it...</td>\n",
              "      <td>NaN</td>\n",
              "      <td>Twitter for Android</td>\n",
              "      <td>False</td>\n",
              "    </tr>\n",
              "    <tr>\n",
              "      <th>2</th>\n",
              "      <td>Time4fisticuffs</td>\n",
              "      <td>Pewee Valley, KY</td>\n",
              "      <td>#Christian #Catholic #Conservative #Reagan #Re...</td>\n",
              "      <td>2009-02-28 18:57:41</td>\n",
              "      <td>9275</td>\n",
              "      <td>9525</td>\n",
              "      <td>7254</td>\n",
              "      <td>False</td>\n",
              "      <td>2020-07-25 12:27:14</td>\n",
              "      <td>@diane3443 @wdunlap @realDonaldTrump Trump nev...</td>\n",
              "      <td>['COVID19']</td>\n",
              "      <td>Twitter for Android</td>\n",
              "      <td>False</td>\n",
              "    </tr>\n",
              "    <tr>\n",
              "      <th>3</th>\n",
              "      <td>ethel mertz</td>\n",
              "      <td>Stuck in the Middle</td>\n",
              "      <td>#Browns #Indians #ClevelandProud #[]_[] #Cavs ...</td>\n",
              "      <td>2019-03-07 01:45:06</td>\n",
              "      <td>197</td>\n",
              "      <td>987</td>\n",
              "      <td>1488</td>\n",
              "      <td>False</td>\n",
              "      <td>2020-07-25 12:27:10</td>\n",
              "      <td>@brookbanktv The one gift #COVID19 has give me...</td>\n",
              "      <td>['COVID19']</td>\n",
              "      <td>Twitter for iPhone</td>\n",
              "      <td>False</td>\n",
              "    </tr>\n",
              "    <tr>\n",
              "      <th>4</th>\n",
              "      <td>DIPR-J&amp;K</td>\n",
              "      <td>Jammu and Kashmir</td>\n",
              "      <td>🖊️Official Twitter handle of Department of Inf...</td>\n",
              "      <td>2017-02-12 06:45:15</td>\n",
              "      <td>101009</td>\n",
              "      <td>168</td>\n",
              "      <td>101</td>\n",
              "      <td>False</td>\n",
              "      <td>2020-07-25 12:27:08</td>\n",
              "      <td>25 July : Media Bulletin on Novel #CoronaVirus...</td>\n",
              "      <td>['CoronaVirusUpdates', 'COVID19']</td>\n",
              "      <td>Twitter for Android</td>\n",
              "      <td>False</td>\n",
              "    </tr>\n",
              "  </tbody>\n",
              "</table>\n",
              "</div>"
            ],
            "text/plain": [
              "         user_name         user_location  ...               source is_retweet\n",
              "0           ᏉᎥ☻լꂅϮ            astroworld  ...   Twitter for iPhone      False\n",
              "1    Tom Basile 🇺🇸          New York, NY  ...  Twitter for Android      False\n",
              "2  Time4fisticuffs      Pewee Valley, KY  ...  Twitter for Android      False\n",
              "3      ethel mertz  Stuck in the Middle   ...   Twitter for iPhone      False\n",
              "4         DIPR-J&K     Jammu and Kashmir  ...  Twitter for Android      False\n",
              "\n",
              "[5 rows x 13 columns]"
            ]
          },
          "metadata": {},
          "execution_count": 19
        }
      ]
    },
    {
      "cell_type": "markdown",
      "metadata": {
        "id": "UnHBuQJLRLIq"
      },
      "source": [
        "We can see that we get the following columns:\n",
        "- user_name: The user's name (`esbenkc`)\n",
        "- user_location: The user's written location (`Aarhus`)\n",
        "- user_description: User's description\n",
        "- user_created: When the user was created\n",
        "- user_followers: How many followers the user has\n",
        "- user_friends: How many \"friends\" (people the user is following) the user has\n",
        "- user_favourites: How many likes the user's tweets has\n",
        "- user_verified: If the user is verified (e.g. `elonmusk` with the little checkmark besides his name)\n",
        "- date: The tweet's post date\n",
        "- text: The content of the tweet\n",
        "- hashtags: Which hashtags are in the text (`NaN` if there are none)\n",
        "- source: Which device the user created the tweet with\n",
        "- is_retweet: If it is a retweet (there should be none because we filtered them\n",
        "\n",
        "## 😂😣 Sentiment analysis\n",
        "Now we want to perform sentiment analysis on the text. We are going to use the wonderful library `vader` to do this really easily but normally, we could use the following process:\n",
        "1. Remove all weird characters from the text, e.g. links and hashtags, etc. using [`regex`](https://www.computerhope.com/jargon/r/regex.htm)\n",
        "2. Separate the `text` column so we get a row for each word in that column using something like `text_column.split(\"\\W\")` which splits it by any character that isn't a letter. This is a _very_ simple implementation of the so-called `tokenization` that splits a text into `tokens`.\n",
        "3. Compare each word to a dictionary with a sentiment value associated to each word (negative to positive).\n",
        "\n",
        "Luckily, `vader` does all this work for us and more. I developed the `sentida` package for Danish sentiment analysis if you want to use your own Danish Twitter search. Let's try them both out!"
      ]
    },
    {
      "cell_type": "code",
      "metadata": {
        "colab": {
          "base_uri": "https://localhost:8080/"
        },
        "id": "8x3gYc9RUKnL",
        "outputId": "e925f939-e294-4c7d-b7e7-02d605795f2e"
      },
      "source": [
        "print(\"Jeg elsker fisk, men jeg hader mageritter! on sentida unnormal:\", s().sentida(\"Jeg elsker fisk, men jeg hader mageritter!\", normal=True),\n",
        "      \"\\nJeg elsker fisk! on sentida:\", s().sentida(\"Jeg elsker fisk!\"),\n",
        "      \"\\nJeg hader fisk! on sentida:\", s().sentida(\"Jeg hader fisk!\"),\n",
        "      \"\\nI love fish on vader:\", v().polarity_scores(\"I love fish.\"),\n",
        "      \"\\nI love fish! on vader:\", v().polarity_scores(\"I love fish!\"),\n",
        "      \"\\nI hate fish! on vader:\", v().polarity_scores(\"I hate fish!\"), \"compound only:\", v().polarity_scores(\"I hate fish!\")['compound'])"
      ],
      "execution_count": null,
      "outputs": [
        {
          "output_type": "stream",
          "name": "stdout",
          "text": [
            "Jeg elsker fisk, men jeg hader mageritter! on sentida unnormal: -0.1601442500000002 \n",
            "Jeg elsker fisk! on sentida: 1.0 \n",
            "Jeg hader fisk! on sentida: -1.0 \n",
            "I love fish on vader: {'neg': 0.0, 'neu': 0.323, 'pos': 0.677, 'compound': 0.6369} \n",
            "I love fish! on vader: {'neg': 0.0, 'neu': 0.308, 'pos': 0.692, 'compound': 0.6696} \n",
            "I hate fish! on vader: {'neg': 0.666, 'neu': 0.334, 'pos': 0.0, 'compound': -0.6114} compound only: -0.6114\n"
          ]
        }
      ]
    },
    {
      "cell_type": "code",
      "metadata": {
        "id": "P-o3vulgzKYS"
      },
      "source": [],
      "execution_count": null,
      "outputs": []
    },
    {
      "cell_type": "markdown",
      "metadata": {
        "id": "Rx80uPLOXCVg"
      },
      "source": [
        "**What do we see from this output?**\n",
        "\n",
        "- Sentida just returns one value which goes from -1 to 1 while Vader returns a little dictionary (*oh, we know what that is!*) that we can access with `['compound']` to get sort of the same representation as Sentida gives.\n",
        "- That `!` modulates how much sentiment there is (*hmmm, maybe other things also modulate the sentiment?*).\n",
        "- That Sentida is for Danish what Vader is for English\n",
        "\n",
        "## Let's go on to analyse our dataset\n",
        "We assign a new list of sentiments for each tweet in `tweet_df['text']` to a new column with Vader (since this dataset is English). Here, I use two different ways to write a loop: 1) a `for loop` and 2) a so-called `list comprehension`. List comprehensions are a very Python thing and reduce the code length quite a bit.\n",
        "\n",
        "It takes a bit of time to run so we grab a subset of the data (1,000 rows)."
      ]
    },
    {
      "cell_type": "code",
      "metadata": {
        "colab": {
          "base_uri": "https://localhost:8080/"
        },
        "id": "hvPPdQTdXBz3",
        "outputId": "4b611049-4b49-4f3c-f440-883f8ac875d0"
      },
      "source": [
        "subset_df = loaded_df.sample(1000)\n",
        "\n",
        "# Using a for loop (commented because it takes quite a while to run):\n",
        "\n",
        "# sentiments = []\n",
        "# for tweet in subset_df['text']:\n",
        "#   sentiments.append(\n",
        "#       v().polarity_scores(tweet)['compound']\n",
        "#   )\n",
        "# subset_df['sentiment'] = sentiments\n",
        "\n",
        "# This one does the same as the above and is slightly faster:\n",
        "subset_df['sentiment'] = \\\n",
        "  [v().polarity_scores(tweet)['compound'] for tweet in subset_df['text']]\n",
        "\n",
        "[print(\"\\n\\nSentiment:\", row[1][13], \"\\nText:\\n\", row[1][9]) for row in subset_df.head(5).iterrows()]"
      ],
      "execution_count": null,
      "outputs": [
        {
          "output_type": "stream",
          "name": "stdout",
          "text": [
            "\n",
            "\n",
            "Sentiment: -0.7906 \n",
            "Text:\n",
            " European countries rushed to house the homeless during the coronavirus crisis. Advocates worry the changes won’t la… https://t.co/Rnud7Zy61w\n",
            "\n",
            "\n",
            "Sentiment: 0.4515 \n",
            "Text:\n",
            " Any #highered #mathematics profs out there willing to give this a go or give credit to Grad students? Undergrad? To… https://t.co/KH8cj2h0wb\n",
            "\n",
            "\n",
            "Sentiment: 0.0 \n",
            "Text:\n",
            " It really should be the parents choice to send children back to school. Not the president or a school district.… https://t.co/2STWphf5Ro\n",
            "\n",
            "\n",
            "Sentiment: 0.4576 \n",
            "Text:\n",
            " Screenshots I personally took of the NIH Pub Med website showing a very interesting paper that was about to be publ… https://t.co/XjCmky6R4R\n",
            "\n",
            "\n",
            "Sentiment: 0.0 \n",
            "Text:\n",
            " This story was published on https://t.co/Qeh1F0X78X\n",
            "\n",
            "#covid #covid19 #antibody https://t.co/Islfn540hS\n"
          ]
        },
        {
          "output_type": "execute_result",
          "data": {
            "text/plain": [
              "[None, None, None, None, None]"
            ]
          },
          "metadata": {},
          "execution_count": 26
        }
      ]
    },
    {
      "cell_type": "markdown",
      "metadata": {
        "id": "XuUiVtQeaM7I"
      },
      "source": [
        "## 👩🏼‍🔬 Doing science!\n",
        "- # What do we notice? \n",
        "\n",
        "### Let's try plotting the data using Python\n",
        "Some classic Python visualization packages are: [`Plotly`](https://plotly.com/python/) that generates wonderful interactive visualizations, [`matplotlib`](https://matplotlib.org/stable/tutorials/introductory/pyplot.html) which is horrible but which everyone uses for some reason, [`Seaborn`](https://seaborn.pydata.org/introduction.html) which is quite easy and neat.\n",
        "\n",
        "`pandas` already includes some very basic plotting functionality that is built on top of `matplotlib`. Check out the [documentation](https://pandas.pydata.org/docs/user_guide/visualization.html).\n",
        "\n",
        "- # What might our hypotheses be?\n",
        "  - Import S&P500 market and see correlation with sentiment of global/US/cult members for Elono mUsko users\n",
        "  - News sentiment dataset correlated with Twitter sentiment dataset\n",
        "  - Weekdates' / times' correlation with sentiment\n",
        "  - Holidays affect sentiment: Christmas\n",
        "  - Correlation between covid local deaths and local twitter sentiment\n",
        "  - Public intellectuals' influence on the sentiment: Segregate people with high following and low following\n",
        "  - Global death count vs. sentiment\n",
        "  - Desentisized: Over time, lesser negativity with every subsequent spike\n",
        "  - Does it have effect on being antivaxxer from using iPhone vs. Android?\n",
        "  - Compare across countries with different strategies: Oxford Covid Stringency Dataset\n",
        "  - Sentiment change on vaccine change\n",
        "\n",
        "- # What do we want to plot?"
      ]
    },
    {
      "cell_type": "code",
      "metadata": {
        "id": "ZbXpT9AZgk7N",
        "colab": {
          "base_uri": "https://localhost:8080/",
          "height": 558
        },
        "outputId": "7e203f7d-bbdf-4e85-df48-c852c72369d6"
      },
      "source": [
        "# subset_df.plot(x=\"date\", y=\"sentiment\")\n",
        "subset_df = subset_df.sort_values('date')\n",
        "subset_df['sentiment_7'] = subset_df.rolling(window=7)['sentiment'].mean()\n",
        "subset_df['sentiment_31'] = subset_df.rolling(window=31)['sentiment'].mean()\n",
        "# subset_df.tail(2)\n",
        "subset_df.plot(x=\"date\", y=\"sentiment_7\")\n",
        "subset_df.plot(x=\"date\", y=\"sentiment_31\")"
      ],
      "execution_count": null,
      "outputs": [
        {
          "output_type": "execute_result",
          "data": {
            "text/plain": [
              "<matplotlib.axes._subplots.AxesSubplot at 0x7f8fbd58c0d0>"
            ]
          },
          "metadata": {},
          "execution_count": 27
        },
        {
          "output_type": "display_data",
          "data": {
            "image/png": "[encoded data removed]",
            "text/plain": [
              "<Figure size 432x288 with 1 Axes>"
            ]
          },
          "metadata": {
            "needs_background": "light"
          }
        },
        {
          "output_type": "display_data",
          "data": {
            "image/png": "[encoded data removed]",
            "text/plain": [
              "<Figure size 432x288 with 1 Axes>"
            ]
          },
          "metadata": {
            "needs_background": "light"
          }
        }
      ]
    },
    {
      "cell_type": "code",
      "metadata": {
        "id": "2awsfZzNnHuZ",
        "colab": {
          "base_uri": "https://localhost:8080/",
          "height": 296
        },
        "outputId": "37994931-64f0-43e2-c5ad-322c30131e8f"
      },
      "source": [
        "# # Compare to covid numbers in US\n",
        "covid_df = pd.read_csv(\"https://covidtracking.com/data/download/national-history.csv\")\n",
        "\n",
        "covid_df = covid_df.sort_values('date')\n",
        "# covid_df['death_31'] = covid_df.rolling(window=31)['death'].mean()\n",
        "covid_df = covid_df[(min(subset_df['date']) < covid_df['date']) & (covid_df['date'] < max(subset_df['date']))]\n",
        "covid_df.plot(x='date', y='positiveIncrease')"
      ],
      "execution_count": null,
      "outputs": [
        {
          "output_type": "execute_result",
          "data": {
            "text/plain": [
              "<matplotlib.axes._subplots.AxesSubplot at 0x7f8fbd6e29d0>"
            ]
          },
          "metadata": {},
          "execution_count": 28
        },
        {
          "output_type": "display_data",
          "data": {
            "image/png": "[encoded data removed]",
            "text/plain": [
              "<Figure size 432x288 with 1 Axes>"
            ]
          },
          "metadata": {
            "needs_background": "light"
          }
        }
      ]
    },
    {
      "cell_type": "code",
      "metadata": {
        "id": "orf5BvaD6jiY"
      },
      "source": [],
      "execution_count": null,
      "outputs": []
    },
    {
      "cell_type": "code",
      "metadata": {
        "id": "lpdUDUGjo_BR",
        "colab": {
          "base_uri": "https://localhost:8080/",
          "height": 303
        },
        "outputId": "f0d08ab8-f0cb-4bf3-94cb-c0469e70117b"
      },
      "source": [
        "# subset_df['date_day'] = pd.to_datetime(subset_df['date']).dt.date\n",
        "# covid_df['date_day'] = pd.to_datetime(covid_df['date']).dt.date\n",
        "# plot_df = pd.merge(subset_df, covid_df, on=\"date_day\", how=\"inner\")\n",
        "# plot_df['date_day'] = pd.to_datetime(plot_df['date_day'])\n",
        "# plot_df = plot_df.groupby(plot_df['date_day'].dt.day).agg({'date_day':'first',\n",
        "#                                                  'deathIncrease':'first',\n",
        "#                                                  'sentiment_31':'mean'})\n",
        "# plot_df.plot(x=\"date_day\", y=[\"deathIncrease\", \"sentiment_31\"])\n",
        "\n",
        "# plot_multi(plot_df, y=['deathIncrease', 'sentiment_31'], x='date_day')"
      ],
      "execution_count": null,
      "outputs": [
        {
          "output_type": "execute_result",
          "data": {
            "text/plain": [
              "<matplotlib.axes._subplots.AxesSubplot at 0x7f3ae7c71a90>"
            ]
          },
          "metadata": {},
          "execution_count": 34
        },
        {
          "output_type": "display_data",
          "data": {
            "image/png": "[encoded data removed]",
            "text/plain": [
              "<Figure size 432x288 with 1 Axes>"
            ]
          },
          "metadata": {
            "needs_background": "light"
          }
        }
      ]
    },
    {
      "cell_type": "markdown",
      "metadata": {
        "id": "-jZhlDNeHyHN"
      },
      "source": [
        "Bonus:\n",
        "\n",
        "Try to make your own graphs about your own hypotheses, e.g. if people from specific places are generally more negative 🤔"
      ]
    },
    {
      "cell_type": "code",
      "metadata": {
        "id": "eYRUkZpIHzyr"
      },
      "source": [],
      "execution_count": null,
      "outputs": []
    },
    {
      "cell_type": "markdown",
      "metadata": {
        "id": "0YxwhT6whsZS"
      },
      "source": [
        "# Awesome inspiration\n",
        "My wonderful partner Maris created some plots for our Prime Minister about the coronavirus response from the Danish population. [Check them out](https://github.com/centre-for-humanities-computing/hope-vaccines-twitter):\n",
        "\n",
        "![sentmient over time](https://github.com/centre-for-humanities-computing/hope-vaccines-twitter/raw/master/fig/sentiment_compound_mentions_count_labelled.png)\n",
        "![sentment over time](https://github.com/centre-for-humanities-computing/hope-vaccines-twitter/raw/master/fig/sentiment_compound_entropy_labelled.png)"
      ]
    }
  ]
}